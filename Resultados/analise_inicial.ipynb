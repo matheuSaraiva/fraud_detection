{
 "cells": [
  {
   "cell_type": "code",
   "execution_count": 1,
   "metadata": {},
   "outputs": [],
   "source": [
    "import pandas as pd\n",
    "import seaborn as sns\n",
    "from zipfile import ZipFile\n",
    "import matplotlib.pyplot as plt"
   ]
  },
  {
   "cell_type": "markdown",
   "metadata": {},
   "source": [
    "# Análise Exploratória dos dados amostrais\n",
    "\n",
    "A amostra utilizada nesta análise foi escolhida aleatoriamente dentro de um conjunto de amostras que pertencem ao cenário 4. Dado que todas amostras pertencentes a este cenário possuem comportamento e distribuição semelhantes considera-se que esta análise seja, num certo sentido, representativa para todas as outras amostras."
   ]
  },
  {
   "cell_type": "markdown",
   "metadata": {},
   "source": [
    "## isFraud - Variável dependente"
   ]
  },
  {
   "cell_type": "code",
   "execution_count": 2,
   "metadata": {},
   "outputs": [
    {
     "data": {
      "text/plain": [
       "0    68541\n",
       "1       88\n",
       "Name: isFraud, dtype: int64"
      ]
     },
     "execution_count": 2,
     "metadata": {},
     "output_type": "execute_result"
    }
   ],
   "source": [
    "amostra = pd.read_csv('amostra_39.csv')\n",
    "amostra['isFraud'].value_counts() "
   ]
  },
  {
   "cell_type": "code",
   "execution_count": 3,
   "metadata": {},
   "outputs": [
    {
     "data": {
      "text/plain": [
       "0.0012806312496950409"
      ]
     },
     "execution_count": 3,
     "metadata": {},
     "output_type": "execute_result"
    }
   ],
   "source": [
    "amostra['isFraud'].var()"
   ]
  },
  {
   "cell_type": "code",
   "execution_count": 4,
   "metadata": {},
   "outputs": [
    {
     "name": "stdout",
     "output_type": "stream",
     "text": [
      "P(Y = 1 | X = CASH_IN) = 0.0\n",
      "P(Y = 1 | X = PAYMENT) = 0.0\n",
      "P(Y = 1 | X = TRANSFER) = 0.0009233029063057392\n",
      "P(Y = 1 | X = CASH_OUT) = 0.0076362374175633465\n",
      "P(Y = 1 | X = DEBIT) = 0.0\n"
     ]
    }
   ],
   "source": [
    "# P(Y = 1 | X = i)\n",
    "\n",
    "for i in amostra['action'].unique():\n",
    "    f = (amostra['action'] == i)\n",
    "    print(f'P(Y = 1 | X = {i}) = {sum(amostra.loc[f,\"isFraud\"]) / sum(f)}')"
   ]
  },
  {
   "cell_type": "markdown",
   "metadata": {},
   "source": [
    "## Fraudadores - origem"
   ]
  },
  {
   "cell_type": "code",
   "execution_count": 5,
   "metadata": {
    "scrolled": true
   },
   "outputs": [
    {
     "data": {
      "text/plain": [
       "C0347245435     44\n",
       "CC3242234296     1\n",
       "CC9331470991     1\n",
       "CC1854494645     1\n",
       "CC9193119715     1\n",
       "CC1592781726     1\n",
       "CC6139717413     1\n",
       "CC0193773329     1\n",
       "CC9386205599     1\n",
       "CC6940222552     1\n",
       "CC1824469379     1\n",
       "CC2103298718     1\n",
       "CC4780826763     1\n",
       "CC0090843575     1\n",
       "CC8041606144     1\n",
       "CC5703847008     1\n",
       "CC0154986859     1\n",
       "CC8065028496     1\n",
       "CC7718966938     1\n",
       "CC9054238793     1\n",
       "CC4033667846     1\n",
       "CC2521582045     1\n",
       "CC1722067770     1\n",
       "CC7045527483     1\n",
       "CC4751651925     1\n",
       "CC5017773519     1\n",
       "CC2904307612     1\n",
       "CC6211778336     1\n",
       "CC0361731190     1\n",
       "CC5877312020     1\n",
       "CC2156650825     1\n",
       "CC4985430273     1\n",
       "CC6521302573     1\n",
       "CC2278821188     1\n",
       "CC1459457913     1\n",
       "CC1111542001     1\n",
       "CC1318979346     1\n",
       "CC2260531459     1\n",
       "CC8528625259     1\n",
       "CC4547079479     1\n",
       "CC7779145517     1\n",
       "CC0570822535     1\n",
       "CC8571630904     1\n",
       "CC8968553136     1\n",
       "CC1271081551     1\n",
       "Name: nameOrig, dtype: int64"
      ]
     },
     "execution_count": 5,
     "metadata": {},
     "output_type": "execute_result"
    }
   ],
   "source": [
    "f = (amostra['isFraud']==1)\n",
    "amostra.loc[f, 'nameOrig'].value_counts() #Quantidade de fraudes por clientes"
   ]
  },
  {
   "cell_type": "code",
   "execution_count": 6,
   "metadata": {},
   "outputs": [
    {
     "name": "stdout",
     "output_type": "stream",
     "text": [
      "P(Y = 1 | X = C0347245435) = 0.04485219164118247\n"
     ]
    }
   ],
   "source": [
    "# P(Y = 1 | X = i) #para os maiores fraudadores\n",
    "\n",
    "fraudadores = ['C0347245435']\n",
    "for i in fraudadores:\n",
    "    f = (amostra['nameOrig'] == i)\n",
    "    print(f'P(Y = 1 | X = {i}) = {sum(amostra.loc[f,\"isFraud\"]) / sum(f)}')"
   ]
  },
  {
   "cell_type": "markdown",
   "metadata": {},
   "source": [
    "## Perfil dos fraudadores - origem"
   ]
  },
  {
   "cell_type": "code",
   "execution_count": 7,
   "metadata": {},
   "outputs": [
    {
     "data": {
      "text/plain": [
       "TRANSFER    44\n",
       "Name: action, dtype: int64"
      ]
     },
     "execution_count": 7,
     "metadata": {},
     "output_type": "execute_result"
    }
   ],
   "source": [
    "f = amostra['nameOrig'].isin(fraudadores)\n",
    "f = f & (amostra['isFraud'] == 1)\n",
    "amostra.loc[f, 'action'].value_counts()"
   ]
  },
  {
   "cell_type": "code",
   "execution_count": 8,
   "metadata": {},
   "outputs": [
    {
     "data": {
      "text/plain": [
       "<AxesSubplot:xlabel='nameOrig', ylabel='amount'>"
      ]
     },
     "execution_count": 8,
     "metadata": {},
     "output_type": "execute_result"
    },
    {
     "data": {
      "image/png": "[encoded data removed]",
      "text/plain": [
       "<Figure size 432x288 with 1 Axes>"
      ]
     },
     "metadata": {
      "needs_background": "light"
     },
     "output_type": "display_data"
    }
   ],
   "source": [
    "f = amostra['nameOrig'].isin(fraudadores)\n",
    "f = f & (amostra['action'] == 'TRANSFER')\n",
    "sns.boxplot(y='amount', x='nameOrig', data=amostra[f])"
   ]
  },
  {
   "cell_type": "code",
   "execution_count": 9,
   "metadata": {},
   "outputs": [
    {
     "data": {
      "text/plain": [
       "10000.00    579\n",
       "20.00         2\n",
       "786.29        1\n",
       "9306.04       1\n",
       "2320.37       1\n",
       "9038.19       1\n",
       "6595.83       1\n",
       "5704.35       1\n",
       "Name: amount, dtype: int64"
      ]
     },
     "execution_count": 9,
     "metadata": {},
     "output_type": "execute_result"
    }
   ],
   "source": [
    "amostra.loc[f, 'amount'].value_counts() #SMURFING!!!!!!"
   ]
  },
  {
   "cell_type": "code",
   "execution_count": 10,
   "metadata": {},
   "outputs": [
    {
     "data": {
      "text/plain": [
       "0    46982\n",
       "1       87\n",
       "Name: isFraud, dtype: int64"
      ]
     },
     "execution_count": 10,
     "metadata": {},
     "output_type": "execute_result"
    }
   ],
   "source": [
    "f = (amostra['amount'] == 10000)\n",
    "amostra[f]['isFraud'].value_counts()"
   ]
  },
  {
   "cell_type": "markdown",
   "metadata": {},
   "source": [
    "# Demais features"
   ]
  },
  {
   "cell_type": "code",
   "execution_count": 11,
   "metadata": {},
   "outputs": [
    {
     "data": {
      "text/plain": [
       "180"
      ]
     },
     "execution_count": 11,
     "metadata": {},
     "output_type": "execute_result"
    }
   ],
   "source": [
    "amostra['nameOrig'].nunique() #número de origens"
   ]
  },
  {
   "cell_type": "code",
   "execution_count": 12,
   "metadata": {},
   "outputs": [
    {
     "data": {
      "text/plain": [
       "5108"
      ]
     },
     "execution_count": 12,
     "metadata": {},
     "output_type": "execute_result"
    }
   ],
   "source": [
    "amostra['nameDest'].nunique() #número de destinos"
   ]
  },
  {
   "cell_type": "code",
   "execution_count": 13,
   "metadata": {},
   "outputs": [
    {
     "data": {
      "text/plain": [
       "TRANSFER    47655\n",
       "CASH_IN      9090\n",
       "PAYMENT      5853\n",
       "CASH_OUT     5762\n",
       "DEBIT         269\n",
       "Name: action, dtype: int64"
      ]
     },
     "execution_count": 13,
     "metadata": {},
     "output_type": "execute_result"
    }
   ],
   "source": [
    "amostra['action'].value_counts()"
   ]
  },
  {
   "cell_type": "code",
   "execution_count": 14,
   "metadata": {},
   "outputs": [
    {
     "data": {
      "text/html": [
       "<div>\n",
       "<style scoped>\n",
       "    .dataframe tbody tr th:only-of-type {\n",
       "        vertical-align: middle;\n",
       "    }\n",
       "\n",
       "    .dataframe tbody tr th {\n",
       "        vertical-align: top;\n",
       "    }\n",
       "\n",
       "    .dataframe thead th {\n",
       "        text-align: right;\n",
       "    }\n",
       "</style>\n",
       "<table border=\"1\" class=\"dataframe\">\n",
       "  <thead>\n",
       "    <tr style=\"text-align: right;\">\n",
       "      <th></th>\n",
       "      <th>amount</th>\n",
       "      <th>oldBalanceOrig</th>\n",
       "      <th>newBalanceOrig</th>\n",
       "      <th>oldBalanceDest</th>\n",
       "      <th>newBalanceDest</th>\n",
       "    </tr>\n",
       "  </thead>\n",
       "  <tbody>\n",
       "    <tr>\n",
       "      <th>count</th>\n",
       "      <td>68629.000000</td>\n",
       "      <td>6.862900e+04</td>\n",
       "      <td>6.862900e+04</td>\n",
       "      <td>6.862900e+04</td>\n",
       "      <td>6.862900e+04</td>\n",
       "    </tr>\n",
       "    <tr>\n",
       "      <th>mean</th>\n",
       "      <td>36532.528502</td>\n",
       "      <td>3.755703e+06</td>\n",
       "      <td>3.756089e+06</td>\n",
       "      <td>2.511809e+06</td>\n",
       "      <td>2.519280e+06</td>\n",
       "    </tr>\n",
       "    <tr>\n",
       "      <th>std</th>\n",
       "      <td>61428.245427</td>\n",
       "      <td>1.124643e+06</td>\n",
       "      <td>1.114121e+06</td>\n",
       "      <td>2.026681e+06</td>\n",
       "      <td>2.029452e+06</td>\n",
       "    </tr>\n",
       "    <tr>\n",
       "      <th>min</th>\n",
       "      <td>0.000000</td>\n",
       "      <td>-2.130811e+04</td>\n",
       "      <td>-2.130811e+04</td>\n",
       "      <td>-2.130811e+04</td>\n",
       "      <td>-1.130811e+04</td>\n",
       "    </tr>\n",
       "    <tr>\n",
       "      <th>25%</th>\n",
       "      <td>10000.000000</td>\n",
       "      <td>3.175896e+06</td>\n",
       "      <td>3.174795e+06</td>\n",
       "      <td>9.759530e+03</td>\n",
       "      <td>1.381031e+04</td>\n",
       "    </tr>\n",
       "    <tr>\n",
       "      <th>50%</th>\n",
       "      <td>10000.000000</td>\n",
       "      <td>3.725019e+06</td>\n",
       "      <td>3.720171e+06</td>\n",
       "      <td>3.061402e+06</td>\n",
       "      <td>3.071030e+06</td>\n",
       "    </tr>\n",
       "    <tr>\n",
       "      <th>75%</th>\n",
       "      <td>10000.000000</td>\n",
       "      <td>4.334996e+06</td>\n",
       "      <td>4.330665e+06</td>\n",
       "      <td>4.036710e+06</td>\n",
       "      <td>4.046598e+06</td>\n",
       "    </tr>\n",
       "    <tr>\n",
       "      <th>max</th>\n",
       "      <td>523368.790000</td>\n",
       "      <td>1.149044e+07</td>\n",
       "      <td>1.148044e+07</td>\n",
       "      <td>1.149044e+07</td>\n",
       "      <td>1.149044e+07</td>\n",
       "    </tr>\n",
       "  </tbody>\n",
       "</table>\n",
       "</div>"
      ],
      "text/plain": [
       "              amount  oldBalanceOrig  newBalanceOrig  oldBalanceDest  \\\n",
       "count   68629.000000    6.862900e+04    6.862900e+04    6.862900e+04   \n",
       "mean    36532.528502    3.755703e+06    3.756089e+06    2.511809e+06   \n",
       "std     61428.245427    1.124643e+06    1.114121e+06    2.026681e+06   \n",
       "min         0.000000   -2.130811e+04   -2.130811e+04   -2.130811e+04   \n",
       "25%     10000.000000    3.175896e+06    3.174795e+06    9.759530e+03   \n",
       "50%     10000.000000    3.725019e+06    3.720171e+06    3.061402e+06   \n",
       "75%     10000.000000    4.334996e+06    4.330665e+06    4.036710e+06   \n",
       "max    523368.790000    1.149044e+07    1.148044e+07    1.149044e+07   \n",
       "\n",
       "       newBalanceDest  \n",
       "count    6.862900e+04  \n",
       "mean     2.519280e+06  \n",
       "std      2.029452e+06  \n",
       "min     -1.130811e+04  \n",
       "25%      1.381031e+04  \n",
       "50%      3.071030e+06  \n",
       "75%      4.046598e+06  \n",
       "max      1.149044e+07  "
      ]
     },
     "execution_count": 14,
     "metadata": {},
     "output_type": "execute_result"
    }
   ],
   "source": [
    "amostra[['amount', 'oldBalanceOrig','newBalanceOrig',\n",
    "         'oldBalanceDest', 'newBalanceDest']].describe()"
   ]
  },
  {
   "cell_type": "markdown",
   "metadata": {},
   "source": [
    "# Resultados"
   ]
  },
  {
   "cell_type": "code",
   "execution_count": 17,
   "metadata": {},
   "outputs": [
    {
     "data": {
      "text/html": [
       "<div>\n",
       "<style scoped>\n",
       "    .dataframe tbody tr th:only-of-type {\n",
       "        vertical-align: middle;\n",
       "    }\n",
       "\n",
       "    .dataframe tbody tr th {\n",
       "        vertical-align: top;\n",
       "    }\n",
       "\n",
       "    .dataframe thead th {\n",
       "        text-align: right;\n",
       "    }\n",
       "</style>\n",
       "<table border=\"1\" class=\"dataframe\">\n",
       "  <thead>\n",
       "    <tr style=\"text-align: right;\">\n",
       "      <th></th>\n",
       "      <th>AUC</th>\n",
       "      <th>RECALL</th>\n",
       "      <th>F1</th>\n",
       "      <th>F2</th>\n",
       "      <th>TN</th>\n",
       "      <th>FN</th>\n",
       "      <th>FP</th>\n",
       "      <th>TP</th>\n",
       "      <th>MODEL</th>\n",
       "      <th>N_NEG</th>\n",
       "      <th>N_POS</th>\n",
       "      <th>AMOSTRA</th>\n",
       "    </tr>\n",
       "  </thead>\n",
       "  <tbody>\n",
       "    <tr>\n",
       "      <th>0</th>\n",
       "      <td>0.941651</td>\n",
       "      <td>0.954290</td>\n",
       "      <td>0.711510</td>\n",
       "      <td>0.839684</td>\n",
       "      <td>11883</td>\n",
       "      <td>57</td>\n",
       "      <td>908</td>\n",
       "      <td>1190</td>\n",
       "      <td>LogClass</td>\n",
       "      <td>12791</td>\n",
       "      <td>1247</td>\n",
       "      <td>resultado_1</td>\n",
       "    </tr>\n",
       "    <tr>\n",
       "      <th>1</th>\n",
       "      <td>0.997047</td>\n",
       "      <td>0.995188</td>\n",
       "      <td>0.992006</td>\n",
       "      <td>0.993913</td>\n",
       "      <td>12777</td>\n",
       "      <td>6</td>\n",
       "      <td>14</td>\n",
       "      <td>1241</td>\n",
       "      <td>RF</td>\n",
       "      <td>12791</td>\n",
       "      <td>1247</td>\n",
       "      <td>resultado_1</td>\n",
       "    </tr>\n",
       "    <tr>\n",
       "      <th>2</th>\n",
       "      <td>0.923155</td>\n",
       "      <td>0.854050</td>\n",
       "      <td>0.883451</td>\n",
       "      <td>0.865572</td>\n",
       "      <td>12692</td>\n",
       "      <td>182</td>\n",
       "      <td>99</td>\n",
       "      <td>1065</td>\n",
       "      <td>MLP</td>\n",
       "      <td>12791</td>\n",
       "      <td>1247</td>\n",
       "      <td>resultado_1</td>\n",
       "    </tr>\n",
       "    <tr>\n",
       "      <th>3</th>\n",
       "      <td>0.815958</td>\n",
       "      <td>0.631917</td>\n",
       "      <td>0.774447</td>\n",
       "      <td>0.682133</td>\n",
       "      <td>12791</td>\n",
       "      <td>459</td>\n",
       "      <td>0</td>\n",
       "      <td>788</td>\n",
       "      <td>SVM</td>\n",
       "      <td>12791</td>\n",
       "      <td>1247</td>\n",
       "      <td>resultado_1</td>\n",
       "    </tr>\n",
       "    <tr>\n",
       "      <th>4</th>\n",
       "      <td>0.999247</td>\n",
       "      <td>0.999198</td>\n",
       "      <td>0.996003</td>\n",
       "      <td>0.997918</td>\n",
       "      <td>12782</td>\n",
       "      <td>1</td>\n",
       "      <td>9</td>\n",
       "      <td>1246</td>\n",
       "      <td>XGB</td>\n",
       "      <td>12791</td>\n",
       "      <td>1247</td>\n",
       "      <td>resultado_1</td>\n",
       "    </tr>\n",
       "    <tr>\n",
       "      <th>5</th>\n",
       "      <td>0.938536</td>\n",
       "      <td>0.955079</td>\n",
       "      <td>0.719604</td>\n",
       "      <td>0.844537</td>\n",
       "      <td>11961</td>\n",
       "      <td>65</td>\n",
       "      <td>1012</td>\n",
       "      <td>1382</td>\n",
       "      <td>LogClass</td>\n",
       "      <td>12973</td>\n",
       "      <td>1447</td>\n",
       "      <td>resultado_10</td>\n",
       "    </tr>\n",
       "    <tr>\n",
       "      <th>6</th>\n",
       "      <td>0.996426</td>\n",
       "      <td>0.994471</td>\n",
       "      <td>0.990024</td>\n",
       "      <td>0.992688</td>\n",
       "      <td>12952</td>\n",
       "      <td>8</td>\n",
       "      <td>21</td>\n",
       "      <td>1439</td>\n",
       "      <td>RF</td>\n",
       "      <td>12973</td>\n",
       "      <td>1447</td>\n",
       "      <td>resultado_10</td>\n",
       "    </tr>\n",
       "    <tr>\n",
       "      <th>7</th>\n",
       "      <td>0.899034</td>\n",
       "      <td>0.833449</td>\n",
       "      <td>0.775064</td>\n",
       "      <td>0.809070</td>\n",
       "      <td>12514</td>\n",
       "      <td>241</td>\n",
       "      <td>459</td>\n",
       "      <td>1206</td>\n",
       "      <td>MLP</td>\n",
       "      <td>12973</td>\n",
       "      <td>1447</td>\n",
       "      <td>resultado_10</td>\n",
       "    </tr>\n",
       "    <tr>\n",
       "      <th>8</th>\n",
       "      <td>0.782308</td>\n",
       "      <td>0.564616</td>\n",
       "      <td>0.721731</td>\n",
       "      <td>0.618471</td>\n",
       "      <td>12973</td>\n",
       "      <td>630</td>\n",
       "      <td>0</td>\n",
       "      <td>817</td>\n",
       "      <td>SVM</td>\n",
       "      <td>12973</td>\n",
       "      <td>1447</td>\n",
       "      <td>resultado_10</td>\n",
       "    </tr>\n",
       "    <tr>\n",
       "      <th>9</th>\n",
       "      <td>0.998771</td>\n",
       "      <td>0.997927</td>\n",
       "      <td>0.997238</td>\n",
       "      <td>0.997651</td>\n",
       "      <td>12968</td>\n",
       "      <td>3</td>\n",
       "      <td>5</td>\n",
       "      <td>1444</td>\n",
       "      <td>XGB</td>\n",
       "      <td>12973</td>\n",
       "      <td>1447</td>\n",
       "      <td>resultado_10</td>\n",
       "    </tr>\n",
       "  </tbody>\n",
       "</table>\n",
       "</div>"
      ],
      "text/plain": [
       "        AUC    RECALL        F1        F2     TN   FN    FP    TP     MODEL  \\\n",
       "0  0.941651  0.954290  0.711510  0.839684  11883   57   908  1190  LogClass   \n",
       "1  0.997047  0.995188  0.992006  0.993913  12777    6    14  1241        RF   \n",
       "2  0.923155  0.854050  0.883451  0.865572  12692  182    99  1065       MLP   \n",
       "3  0.815958  0.631917  0.774447  0.682133  12791  459     0   788       SVM   \n",
       "4  0.999247  0.999198  0.996003  0.997918  12782    1     9  1246       XGB   \n",
       "5  0.938536  0.955079  0.719604  0.844537  11961   65  1012  1382  LogClass   \n",
       "6  0.996426  0.994471  0.990024  0.992688  12952    8    21  1439        RF   \n",
       "7  0.899034  0.833449  0.775064  0.809070  12514  241   459  1206       MLP   \n",
       "8  0.782308  0.564616  0.721731  0.618471  12973  630     0   817       SVM   \n",
       "9  0.998771  0.997927  0.997238  0.997651  12968    3     5  1444       XGB   \n",
       "\n",
       "   N_NEG  N_POS       AMOSTRA  \n",
       "0  12791   1247   resultado_1  \n",
       "1  12791   1247   resultado_1  \n",
       "2  12791   1247   resultado_1  \n",
       "3  12791   1247   resultado_1  \n",
       "4  12791   1247   resultado_1  \n",
       "5  12973   1447  resultado_10  \n",
       "6  12973   1447  resultado_10  \n",
       "7  12973   1447  resultado_10  \n",
       "8  12973   1447  resultado_10  \n",
       "9  12973   1447  resultado_10  "
      ]
     },
     "execution_count": 17,
     "metadata": {},
     "output_type": "execute_result"
    }
   ],
   "source": [
    "results = pd.read_csv('resultados_preliminares_resultado_1.csv.csv')\n",
    "results.head(10)"
   ]
  },
  {
   "cell_type": "code",
   "execution_count": 18,
   "metadata": {},
   "outputs": [
    {
     "data": {
      "text/plain": [
       "<AxesSubplot:xlabel='N_POS', ylabel='Count'>"
      ]
     },
     "execution_count": 18,
     "metadata": {},
     "output_type": "execute_result"
    },
    {
     "data": {
      "image/png": "[encoded data removed]",
      "text/plain": [
       "<Figure size 432x288 with 1 Axes>"
      ]
     },
     "metadata": {
      "needs_background": "light"
     },
     "output_type": "display_data"
    }
   ],
   "source": [
    "sns.histplot(data=results, x='N_POS')"
   ]
  },
  {
   "cell_type": "code",
   "execution_count": 19,
   "metadata": {},
   "outputs": [
    {
     "data": {
      "text/html": [
       "<div>\n",
       "<style scoped>\n",
       "    .dataframe tbody tr th:only-of-type {\n",
       "        vertical-align: middle;\n",
       "    }\n",
       "\n",
       "    .dataframe tbody tr th {\n",
       "        vertical-align: top;\n",
       "    }\n",
       "\n",
       "    .dataframe thead th {\n",
       "        text-align: right;\n",
       "    }\n",
       "</style>\n",
       "<table border=\"1\" class=\"dataframe\">\n",
       "  <thead>\n",
       "    <tr style=\"text-align: right;\">\n",
       "      <th></th>\n",
       "      <th>AUC</th>\n",
       "      <th>RECALL</th>\n",
       "      <th>F1</th>\n",
       "      <th>F2</th>\n",
       "    </tr>\n",
       "    <tr>\n",
       "      <th>MODEL</th>\n",
       "      <th></th>\n",
       "      <th></th>\n",
       "      <th></th>\n",
       "      <th></th>\n",
       "    </tr>\n",
       "  </thead>\n",
       "  <tbody>\n",
       "    <tr>\n",
       "      <th>LogClass</th>\n",
       "      <td>0.937282</td>\n",
       "      <td>0.943494</td>\n",
       "      <td>0.738184</td>\n",
       "      <td>0.846902</td>\n",
       "    </tr>\n",
       "    <tr>\n",
       "      <th>MLP</th>\n",
       "      <td>0.892993</td>\n",
       "      <td>0.795380</td>\n",
       "      <td>0.847658</td>\n",
       "      <td>0.814674</td>\n",
       "    </tr>\n",
       "    <tr>\n",
       "      <th>RF</th>\n",
       "      <td>0.997013</td>\n",
       "      <td>0.995360</td>\n",
       "      <td>0.992334</td>\n",
       "      <td>0.994146</td>\n",
       "    </tr>\n",
       "    <tr>\n",
       "      <th>SVM</th>\n",
       "      <td>0.794165</td>\n",
       "      <td>0.588330</td>\n",
       "      <td>0.739895</td>\n",
       "      <td>0.640729</td>\n",
       "    </tr>\n",
       "    <tr>\n",
       "      <th>XGB</th>\n",
       "      <td>0.998827</td>\n",
       "      <td>0.998304</td>\n",
       "      <td>0.996530</td>\n",
       "      <td>0.997593</td>\n",
       "    </tr>\n",
       "  </tbody>\n",
       "</table>\n",
       "</div>"
      ],
      "text/plain": [
       "               AUC    RECALL        F1        F2\n",
       "MODEL                                           \n",
       "LogClass  0.937282  0.943494  0.738184  0.846902\n",
       "MLP       0.892993  0.795380  0.847658  0.814674\n",
       "RF        0.997013  0.995360  0.992334  0.994146\n",
       "SVM       0.794165  0.588330  0.739895  0.640729\n",
       "XGB       0.998827  0.998304  0.996530  0.997593"
      ]
     },
     "execution_count": 19,
     "metadata": {},
     "output_type": "execute_result"
    }
   ],
   "source": [
    "results.drop(['AMOSTRA',\n",
    "              'FN','FP','TN','TP',\n",
    "              'N_NEG','N_POS'], axis=1, inplace=True)\n",
    "results.groupby('MODEL').mean()\n"
   ]
  },
  {
   "cell_type": "code",
   "execution_count": 20,
   "metadata": {},
   "outputs": [
    {
     "data": {
      "image/png": "[encoded data removed]",
      "text/plain": [
       "<Figure size 1152x432 with 1 Axes>"
      ]
     },
     "metadata": {
      "needs_background": "light"
     },
     "output_type": "display_data"
    }
   ],
   "source": [
    "melt_results = results.melt(id_vars='MODEL', var_name='test', value_name='score')\n",
    "\n",
    "fig, ax = plt.subplots(figsize=[16,6])\n",
    "sns.boxplot(x='MODEL', y='score', hue='test', data=melt_results, ax=ax);"
   ]
  },
  {
   "cell_type": "markdown",
   "metadata": {},
   "source": [
    "## Modelo Logístico"
   ]
  },
  {
   "cell_type": "code",
   "execution_count": 22,
   "metadata": {},
   "outputs": [
    {
     "data": {
      "image/png": "[encoded data removed]",
      "text/plain": [
       "<Figure size 1152x1152 with 4 Axes>"
      ]
     },
     "metadata": {
      "needs_background": "light"
     },
     "output_type": "display_data"
    }
   ],
   "source": [
    "fig, ax = plt.subplots(2,2,figsize=[16,16])\n",
    "f = melt_results['MODEL'] == 'LogClass'\n",
    "f1 = f & (melt_results['test']=='AUC')\n",
    "f2 = f & (melt_results['test']=='RECALL')\n",
    "f3 = f & (melt_results['test']=='F1')\n",
    "f4 = f & (melt_results['test']=='F2')\n",
    "sns.histplot(x='score', hue = \"test\", data=melt_results[f1], ax=ax[0,0]);\n",
    "sns.histplot(x='score', hue = \"test\", data=melt_results[f2], ax=ax[0,1]);\n",
    "sns.histplot(x='score', hue = \"test\", data=melt_results[f3], ax=ax[1,0]);\n",
    "sns.histplot(x='score', hue = \"test\", data=melt_results[f4], ax=ax[1,1]);"
   ]
  },
  {
   "cell_type": "markdown",
   "metadata": {},
   "source": [
    "# Random Forests"
   ]
  },
  {
   "cell_type": "code",
   "execution_count": 17,
   "metadata": {},
   "outputs": [
    {
     "data": {
      "image/png": "[encoded data removed]",
      "text/plain": [
       "<Figure size 1152x1152 with 4 Axes>"
      ]
     },
     "metadata": {
      "needs_background": "light"
     },
     "output_type": "display_data"
    }
   ],
   "source": [
    "fig, ax = plt.subplots(2,2,figsize=[16,16])\n",
    "f = melt_results['Model'] == 'RF'\n",
    "f1 = f & (melt_results['test']=='AUC')\n",
    "f2 = f & (melt_results['test']=='B_ACC')\n",
    "f3 = f & (melt_results['test']=='F1')\n",
    "f4 = f & (melt_results['test']=='F2')\n",
    "sns.histplot(x='score', hue = \"test\", data=melt_results[f1], ax=ax[0,0]);\n",
    "sns.histplot(x='score', hue = \"test\", data=melt_results[f2], ax=ax[0,1]);\n",
    "sns.histplot(x='score', hue = \"test\", data=melt_results[f3], ax=ax[1,0]);\n",
    "sns.histplot(x='score', hue = \"test\", data=melt_results[f4], ax=ax[1,1]);"
   ]
  },
  {
   "cell_type": "markdown",
   "metadata": {},
   "source": [
    "## MLP"
   ]
  },
  {
   "cell_type": "code",
   "execution_count": 18,
   "metadata": {},
   "outputs": [
    {
     "data": {
      "image/png": "[encoded data removed]",
      "text/plain": [
       "<Figure size 1152x1152 with 4 Axes>"
      ]
     },
     "metadata": {
      "needs_background": "light"
     },
     "output_type": "display_data"
    }
   ],
   "source": [
    "fig, ax = plt.subplots(2,2,figsize=[16,16])\n",
    "f = melt_results['Model'] == 'MLP'\n",
    "f1 = f & (melt_results['test']=='AUC')\n",
    "f2 = f & (melt_results['test']=='B_ACC')\n",
    "f3 = f & (melt_results['test']=='F1')\n",
    "f4 = f & (melt_results['test']=='F2')\n",
    "sns.histplot(x='score', hue = \"test\", data=melt_results[f1], ax=ax[0,0]);\n",
    "sns.histplot(x='score', hue = \"test\", data=melt_results[f2], ax=ax[0,1]);\n",
    "sns.histplot(x='score', hue = \"test\", data=melt_results[f3], ax=ax[1,0]);\n",
    "sns.histplot(x='score', hue = \"test\", data=melt_results[f4], ax=ax[1,1]);"
   ]
  },
  {
   "cell_type": "markdown",
   "metadata": {},
   "source": [
    "## XGB"
   ]
  },
  {
   "cell_type": "code",
   "execution_count": 19,
   "metadata": {},
   "outputs": [
    {
     "data": {
      "image/png": "[encoded data removed]",
      "text/plain": [
       "<Figure size 1152x1152 with 4 Axes>"
      ]
     },
     "metadata": {
      "needs_background": "light"
     },
     "output_type": "display_data"
    }
   ],
   "source": [
    "fig, ax = plt.subplots(2,2,figsize=[16,16])\n",
    "f = melt_results['Model'] == 'XGB'\n",
    "f1 = f & (melt_results['test']=='AUC')\n",
    "f2 = f & (melt_results['test']=='B_ACC')\n",
    "f3 = f & (melt_results['test']=='F1')\n",
    "f4 = f & (melt_results['test']=='F2')\n",
    "sns.histplot(x='score', hue = \"test\", data=melt_results[f1], ax=ax[0,0]);\n",
    "sns.histplot(x='score', hue = \"test\", data=melt_results[f2], ax=ax[0,1]);\n",
    "sns.histplot(x='score', hue = \"test\", data=melt_results[f3], ax=ax[1,0]);\n",
    "sns.histplot(x='score', hue = \"test\", data=melt_results[f4], ax=ax[1,1]);"
   ]
  },
  {
   "cell_type": "markdown",
   "metadata": {},
   "source": [
    "## SVM"
   ]
  },
  {
   "cell_type": "code",
   "execution_count": 20,
   "metadata": {},
   "outputs": [
    {
     "data": {
      "image/png": "[encoded data removed]",
      "text/plain": [
       "<Figure size 1152x1152 with 4 Axes>"
      ]
     },
     "metadata": {
      "needs_background": "light"
     },
     "output_type": "display_data"
    }
   ],
   "source": [
    "fig, ax = plt.subplots(2,2,figsize=[16,16])\n",
    "f = melt_results['Model'] == 'SVM'\n",
    "f1 = f & (melt_results['test']=='AUC')\n",
    "f2 = f & (melt_results['test']=='B_ACC')\n",
    "f3 = f & (melt_results['test']=='F1')\n",
    "f4 = f & (melt_results['test']=='F2')\n",
    "sns.histplot(x='score', hue = \"test\", data=melt_results[f1], ax=ax[0,0]);\n",
    "sns.histplot(x='score', hue = \"test\", data=melt_results[f2], ax=ax[0,1]);\n",
    "sns.histplot(x='score', hue = \"test\", data=melt_results[f3], ax=ax[1,0]);\n",
    "sns.histplot(x='score', hue = \"test\", data=melt_results[f4], ax=ax[1,1]);"
   ]
  },
  {
   "cell_type": "code",
   "execution_count": null,
   "metadata": {},
   "outputs": [],
   "source": []
  }
 ],
 "metadata": {
  "kernelspec": {
   "display_name": "Python 3",
   "language": "python",
   "name": "python3"
  },
  "language_info": {
   "codemirror_mode": {
    "name": "ipython",
    "version": 3
   },
   "file_extension": ".py",
   "mimetype": "text/x-python",
   "name": "python",
   "nbconvert_exporter": "python",
   "pygments_lexer": "ipython3",
   "version": "3.8.5"
  }
 },
 "nbformat": 4,
 "nbformat_minor": 4
}
